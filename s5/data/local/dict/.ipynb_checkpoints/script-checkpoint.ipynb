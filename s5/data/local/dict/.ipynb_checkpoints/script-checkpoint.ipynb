{
 "cells": [
  {
   "cell_type": "code",
   "execution_count": 1,
   "metadata": {},
   "outputs": [],
   "source": [
    "import numpy as np\n",
    "import re"
   ]
  },
  {
   "cell_type": "code",
   "execution_count": 2,
   "metadata": {},
   "outputs": [],
   "source": [
    "f = open('textr.txt','r')\n",
    "dat = f.read()\n",
    "f.close()"
   ]
  },
  {
   "cell_type": "code",
   "execution_count": 3,
   "metadata": {},
   "outputs": [],
   "source": [
    "dat_row = np.asarray(re.split(\"\\n\",dat))"
   ]
  },
  {
   "cell_type": "code",
   "execution_count": 26,
   "metadata": {},
   "outputs": [],
   "source": [
    "wav_path = []\n",
    "kaldi_text = []\n",
    "utt2spk = []\n",
    "for x in dat_row:\n",
    "    id = re.findall(r\"\\([^\\)]*\",x)[0][1:]\n",
    "    text = re.findall(r\"\\>[^\\<]*\",x)[0][1:].strip()\n",
    "    wav_path.append(\"c{}-A /home/harsha/speech-tf-1.13-kaldi/kaldi/tools/sph2pipe_v2.5/sph2pipe -f wav -p -c 1 /export/train/sph/c{}.wav\\n\".format(id,id))\n",
    "    wav_path.append(\"c{}-B /home/harsha/speech-tf-1.13-kaldi/kaldi/tools/sph2pipe_v2.5/sph2pipe -f wav -p -c 2 /export/train/sph/c{}.wav\\n\".format(id,id))\n",
    "    kaldi_text.append(\"c\"+id+\" \"+text+\"\\n\")\n",
    "    utt2spk.append(\"c{} c{}\\n\".format(id,id))\n",
    "wav_path = np.asanyarray(wav_path)"
   ]
  },
  {
   "cell_type": "code",
   "execution_count": 5,
   "metadata": {},
   "outputs": [],
   "source": [
    "f = open('text.txt','w')\n",
    "f.writelines(kaldi_text)\n",
    "f.close()"
   ]
  },
  {
   "cell_type": "code",
   "execution_count": 19,
   "metadata": {},
   "outputs": [
    {
     "name": "stdout",
     "output_type": "stream",
     "text": [
      "c1 /home/harsha/speech-tf-1.13-kaldi/kaldi/tools/sph2pipe_v2.5/sph2pipe -f wav -p -c 1 /export/train/sph/c1.wav\n",
      "\n"
     ]
    }
   ],
   "source": [
    "print(wav_path[0])"
   ]
  },
  {
   "cell_type": "code",
   "execution_count": 22,
   "metadata": {},
   "outputs": [],
   "source": [
    "f = open('wav.scp','w')\n",
    "f.writelines(wav_path)\n",
    "f.close()"
   ]
  },
  {
   "cell_type": "code",
   "execution_count": 27,
   "metadata": {},
   "outputs": [],
   "source": [
    "f = open('utt2spk','w')\n",
    "f.writelines(utt2spk)\n",
    "f.close()"
   ]
  },
  {
   "cell_type": "code",
   "execution_count": null,
   "metadata": {},
   "outputs": [],
   "source": []
  }
 ],
 "metadata": {
  "kernelspec": {
   "display_name": "Python 3",
   "language": "python",
   "name": "python3"
  },
  "language_info": {
   "codemirror_mode": {
    "name": "ipython",
    "version": 3
   },
   "file_extension": ".py",
   "mimetype": "text/x-python",
   "name": "python",
   "nbconvert_exporter": "python",
   "pygments_lexer": "ipython3",
   "version": "3.7.3"
  }
 },
 "nbformat": 4,
 "nbformat_minor": 2
}
